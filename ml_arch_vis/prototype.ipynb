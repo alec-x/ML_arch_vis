{
 "cells": [
  {
   "cell_type": "code",
   "execution_count": null,
   "metadata": {},
   "outputs": [],
   "source": [
    "from summary_string import summary_string\n",
    "from PIL import Image, ImageDraw\n",
    "from macnet import Net\n",
    "import torch\n",
    "import numpy as np"
   ]
  },
  {
   "cell_type": "code",
   "execution_count": null,
   "metadata": {},
   "outputs": [],
   "source": [
    "device = \"cuda\" if torch.cuda.is_available() else \"cpu\"\n",
    "print(\"Using {} device\".format(device))\n",
    "model = Net(3).to(device)\n",
    "data, meta_data = summary_string(model, input_size=(2, 96, 96))"
   ]
  },
  {
   "cell_type": "code",
   "execution_count": null,
   "metadata": {},
   "outputs": [],
   "source": [
    "blk = (0,0,0)\n",
    "clr = (255,100,0)\n",
    "clr2 = (100,254,0)"
   ]
  },
  {
   "cell_type": "code",
   "execution_count": null,
   "metadata": {},
   "outputs": [],
   "source": [
    "import math\n",
    "\"\"\"\n",
    "def make_layer(origin, size, t, angle=45):\n",
    "    res = np.zeros((3,4,2))\n",
    "    x,y = origin\n",
    "    scos = size*math.cos(angle*math.pi/180)\n",
    "    ssin = size*math.sin(angle*math.pi/180)\n",
    "    res = []\n",
    "    # rect\n",
    "    res.append([(x,y), (x+t,y), (x+t,y+size), (x, y+size)])\n",
    "    \n",
    "    # top trap\n",
    "    res.append([(x,y), (x+t,y), (x+t+ssin,y-scos), (x+ssin, y-scos)])\n",
    "\n",
    "    # right trap\n",
    "    res.append([(x+t,y), (x+t,y+size), (x+t+ssin, y+size-scos), (x+t+ssin,y-scos)])\n",
    "    return res\n",
    "\"\"\"\n",
    "def iso_proj(xyz, a, b):\n",
    "    cosb = math.cos(b*math.pi/180)\n",
    "    cosa = math.cos(a*math.pi/180)\n",
    "    sina = math.sin(a*math.pi/180)\n",
    "    sinb = math.sin(b*math.pi/180)\n",
    "    \n",
    "    matrix = np.array([[cosb, 0, -sinb],\n",
    "                       [sina*sinb, cosa, sina*math.cos(cosb)],\n",
    "                       [cosa*sinb, -sina, cosa*math.cos(cosb)]])\n",
    "    return tuple(np.matmul(matrix, xyz)[:2])\n",
    "\n",
    "def make_layer(origin, sz, t, a=45, b=45):\n",
    "    # TODO: convert to matrix multiplication\n",
    "    shapes = []\n",
    "    s = sz/2\n",
    "    #shapes.append([(-s,-s,-s), (-s, s,-s), ( s, s,-s), ( s,-s,-s)])\n",
    "    #shapes.append([(-s,-s,-s), (-s, s,-s), (-s, s, s), (-s,-s, s)])\n",
    "    shapes.append([(-t,-s,-s), ( t,-s,-s), ( t,-s, s), (-t,-s, s)])\n",
    "    \n",
    "    shapes.append([( t, s, s), ( t, s,-s), ( t,-s,-s), ( t,-s, s)])\n",
    "    #shapes.append([( s, s, s), (-s, s, s), (-s, s,-s), ( s, s,-s)])\n",
    "    shapes.append([( t, s, s), (-t, s, s), (-t,-s, s), ( t,-s, s)])\n",
    "    for i in range(len(shapes)):\n",
    "        for j in range(len(shapes[i])):\n",
    "            x,y=iso_proj(shapes[i][j],a,b)\n",
    "            x = int(round(x))\n",
    "            y = int(round(y))\n",
    "            shapes[i][j] = (x+origin[0],y+origin[1])\n",
    "\n",
    "    return shapes"
   ]
  },
  {
   "cell_type": "code",
   "execution_count": null,
   "metadata": {},
   "outputs": [],
   "source": [
    "\n",
    "\n",
    "blk = (0,0,0)\n",
    "clr = (255,100,0)\n",
    "clr2 = (100,254,0)\n",
    "\n",
    "im =  Image.new(\"RGB\", (900,400), color=(255,255,255))\n",
    "draw = ImageDraw.Draw(im)\n",
    "layers = []\n",
    "layers.append(make_layer((100,100), 150, 5,b=15))\n",
    "spacing = iso_proj((20,0,0), 45, 15)\n",
    "spacing = (100+spacing[0],100+spacing[1])\n",
    "layers.append(make_layer(spacing, 150, 5,b=15))\n",
    "for layer in layers:\n",
    "    for shp in layer:\n",
    "        draw.polygon(shp, fill=clr, outline=blk, width=1)\n",
    "display(im)"
   ]
  },
  {
   "cell_type": "code",
   "execution_count": null,
   "metadata": {},
   "outputs": [],
   "source": []
  }
 ],
 "metadata": {
  "kernelspec": {
   "display_name": "Python 3.7.10 ('ml_arch_vis')",
   "language": "python",
   "name": "python3"
  },
  "language_info": {
   "codemirror_mode": {
    "name": "ipython",
    "version": 3
   },
   "file_extension": ".py",
   "mimetype": "text/x-python",
   "name": "python",
   "nbconvert_exporter": "python",
   "pygments_lexer": "ipython3",
   "version": "3.7.10"
  },
  "orig_nbformat": 4,
  "vscode": {
   "interpreter": {
    "hash": "922cc0249618628bd7c0d1f2806f5cbdcbd24c1f616ab99cde653d41461dc3aa"
   }
  }
 },
 "nbformat": 4,
 "nbformat_minor": 2
}
